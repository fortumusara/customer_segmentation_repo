{
 "cells": [
  {
   "cell_type": "markdown",
   "metadata": {},
   "source": [
    "# 🧠 Customer Segmentation Using K-Means\n",
    "Cluster customers by transaction behavior"
   ]
  },
  {
   "cell_type": "code",
   "execution_count": null,
   "metadata": {},
   "outputs": [],
   "source": [
    "import pandas as pd\n",
    "from sklearn.cluster import KMeans\n",
    "import matplotlib.pyplot as plt\n",
    "\n",
    "# Example data\n",
    "df = pd.DataFrame({\n",
    "    'customer_id': ['C001', 'C002', 'C003', 'C004'],\n",
    "    'total_spend': [200, 450, 300, 100],\n",
    "    'avg_txn_value': [20, 45, 30, 10]\n",
    "})\n",
    "\n",
    "# Clustering\n",
    "X = df[['total_spend', 'avg_txn_value']]\n",
    "kmeans = KMeans(n_clusters=2)\n",
    "df['segment'] = kmeans.fit_predict(X)\n",
    "\n",
    "df"
   ]
  }
 ],
 "metadata": {
  "kernelspec": {
   "display_name": "Python 3",
   "language": "python",
   "name": "python3"
  },
  "language_info": {
   "name": "python",
   "version": "3.8"
  }
 },
 "nbformat": 4,
 "nbformat_minor": 4
}
